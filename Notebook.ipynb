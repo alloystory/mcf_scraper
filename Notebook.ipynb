{
 "cells": [
  {
   "cell_type": "code",
   "execution_count": 1,
   "metadata": {},
   "outputs": [],
   "source": [
    "import json\n",
    "from pathlib import Path"
   ]
  },
  {
   "cell_type": "code",
   "execution_count": 2,
   "metadata": {},
   "outputs": [],
   "source": [
    "data = []\n",
    "input_dir = Path(\"./engineering\") # Change this accordingly\n",
    "for filepath in input_dir.glob(\"**/*.json\"):\n",
    "    with filepath.open(\"r\") as f:\n",
    "        data.append(json.load(f))"
   ]
  },
  {
   "cell_type": "code",
   "execution_count": 5,
   "metadata": {},
   "outputs": [
    {
     "name": "stdout",
     "output_type": "stream",
     "text": [
      "dict_keys(['uuid', 'sourceCode', 'title', 'description', 'minimumYearsExperience', 'shiftPattern', 'schemes', 'otherRequirements', 'ssocCode', 'workingHours', 'numberOfVacancies', 'psdUrl', 'categories', 'employmentTypes', 'positionLevels', 'status', 'skills', 'ssecEqa', 'ssecFos', 'postedCompany', 'hiringCompany', 'address', 'metadata', 'salary', '_links', 'jobTitles'])\n"
     ]
    }
   ],
   "source": [
    "print(data[0].keys())"
   ]
  },
  {
   "cell_type": "code",
   "execution_count": 4,
   "metadata": {},
   "outputs": [
    {
     "name": "stdout",
     "output_type": "stream",
     "text": [
      "{'maximum': 4000, 'minimum': 2500, 'type': {'id': 4, 'salaryType': 'Monthly'}}\n"
     ]
    }
   ],
   "source": [
    "print(data[0][\"salary\"])"
   ]
  },
  {
   "cell_type": "code",
   "execution_count": 6,
   "metadata": {},
   "outputs": [
    {
     "name": "stdout",
     "output_type": "stream",
     "text": [
      "Draftsman\n"
     ]
    }
   ],
   "source": [
    "print(data[0][\"title\"])"
   ]
  },
  {
   "cell_type": "code",
   "execution_count": 7,
   "metadata": {},
   "outputs": [
    {
     "name": "stdout",
     "output_type": "stream",
     "text": [
      "An established Civil & Structural Engineering Consulting firm in Singapore requires the following position:\n",
      "DRAFTSMAN (Civil & Structural)\n",
      "Requirements:\n",
      "· Possess at least Diploma in Engineering(Civil)\n",
      "· Min. 2 years of experience in Civil & Structural projects.\n",
      "· Experience in traffic-related and/or Roads drafting is required.\n",
      "· Candidates with more than 5 years design experience may apply for Senior position.\n",
      "· Proficient in Autocad and/or MicroStation.\n",
      "· Preferable experience working in consultancy firm.\n"
     ]
    }
   ],
   "source": [
    "print(data[0][\"description\"])"
   ]
  }
 ],
 "metadata": {
  "kernelspec": {
   "display_name": "Python 3",
   "language": "python",
   "name": "python3"
  },
  "language_info": {
   "codemirror_mode": {
    "name": "ipython",
    "version": 3
   },
   "file_extension": ".py",
   "mimetype": "text/x-python",
   "name": "python",
   "nbconvert_exporter": "python",
   "pygments_lexer": "ipython3",
   "version": "3.8.5"
  }
 },
 "nbformat": 4,
 "nbformat_minor": 4
}
